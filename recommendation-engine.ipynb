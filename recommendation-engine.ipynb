{
 "cells": [
  {
   "cell_type": "markdown",
   "id": "dda23994",
   "metadata": {},
   "source": [
    "# Project - Rcommendation Engine"
   ]
  },
  {
   "cell_type": "markdown",
   "id": "6cb22e3b",
   "metadata": {},
   "source": [
    "## Import packages"
   ]
  },
  {
   "cell_type": "code",
   "execution_count": 2,
   "id": "32ea8b42",
   "metadata": {},
   "outputs": [],
   "source": [
    "import numpy as np\n",
    "import pandas as pd"
   ]
  },
  {
   "cell_type": "code",
   "execution_count": 7,
   "id": "11082244",
   "metadata": {},
   "outputs": [
    {
     "data": {
      "text/plain": [
       "(9742, 3)"
      ]
     },
     "execution_count": 7,
     "metadata": {},
     "output_type": "execute_result"
    }
   ],
   "source": [
    "# Read movies dataset \n",
    "movies = pd.read_csv(\"./data/movies.csv\")\n",
    "\n",
    "# check shape of the dataset\n",
    "movies.shape"
   ]
  },
  {
   "cell_type": "code",
   "execution_count": 8,
   "id": "d71c4d9f",
   "metadata": {},
   "outputs": [
    {
     "data": {
      "text/html": [
       "<div>\n",
       "<style scoped>\n",
       "    .dataframe tbody tr th:only-of-type {\n",
       "        vertical-align: middle;\n",
       "    }\n",
       "\n",
       "    .dataframe tbody tr th {\n",
       "        vertical-align: top;\n",
       "    }\n",
       "\n",
       "    .dataframe thead th {\n",
       "        text-align: right;\n",
       "    }\n",
       "</style>\n",
       "<table border=\"1\" class=\"dataframe\">\n",
       "  <thead>\n",
       "    <tr style=\"text-align: right;\">\n",
       "      <th></th>\n",
       "      <th>movieId</th>\n",
       "      <th>title</th>\n",
       "      <th>genres</th>\n",
       "    </tr>\n",
       "  </thead>\n",
       "  <tbody>\n",
       "    <tr>\n",
       "      <th>0</th>\n",
       "      <td>1</td>\n",
       "      <td>Toy Story (1995)</td>\n",
       "      <td>Adventure|Animation|Children|Comedy|Fantasy</td>\n",
       "    </tr>\n",
       "    <tr>\n",
       "      <th>1</th>\n",
       "      <td>2</td>\n",
       "      <td>Jumanji (1995)</td>\n",
       "      <td>Adventure|Children|Fantasy</td>\n",
       "    </tr>\n",
       "    <tr>\n",
       "      <th>2</th>\n",
       "      <td>3</td>\n",
       "      <td>Grumpier Old Men (1995)</td>\n",
       "      <td>Comedy|Romance</td>\n",
       "    </tr>\n",
       "    <tr>\n",
       "      <th>3</th>\n",
       "      <td>4</td>\n",
       "      <td>Waiting to Exhale (1995)</td>\n",
       "      <td>Comedy|Drama|Romance</td>\n",
       "    </tr>\n",
       "    <tr>\n",
       "      <th>4</th>\n",
       "      <td>5</td>\n",
       "      <td>Father of the Bride Part II (1995)</td>\n",
       "      <td>Comedy</td>\n",
       "    </tr>\n",
       "  </tbody>\n",
       "</table>\n",
       "</div>"
      ],
      "text/plain": [
       "   movieId                               title  \\\n",
       "0        1                    Toy Story (1995)   \n",
       "1        2                      Jumanji (1995)   \n",
       "2        3             Grumpier Old Men (1995)   \n",
       "3        4            Waiting to Exhale (1995)   \n",
       "4        5  Father of the Bride Part II (1995)   \n",
       "\n",
       "                                        genres  \n",
       "0  Adventure|Animation|Children|Comedy|Fantasy  \n",
       "1                   Adventure|Children|Fantasy  \n",
       "2                               Comedy|Romance  \n",
       "3                         Comedy|Drama|Romance  \n",
       "4                                       Comedy  "
      ]
     },
     "execution_count": 8,
     "metadata": {},
     "output_type": "execute_result"
    }
   ],
   "source": [
    "# Check the dataframe movies \n",
    "movies.head()"
   ]
  },
  {
   "cell_type": "code",
   "execution_count": 17,
   "id": "3ba385c6",
   "metadata": {},
   "outputs": [
    {
     "data": {
      "text/plain": [
       "(100836, 6)"
      ]
     },
     "execution_count": 17,
     "metadata": {},
     "output_type": "execute_result"
    }
   ],
   "source": [
    "# Read dataset user_ratings\n",
    "user_ratings_df = pd.read_csv(\"./data/user_ratings.csv\")\n",
    "\n",
    "# check shape of the user_ratings\n",
    "user_ratings_df.shape"
   ]
  },
  {
   "cell_type": "code",
   "execution_count": 18,
   "id": "ad1aa7f3",
   "metadata": {},
   "outputs": [
    {
     "data": {
      "text/html": [
       "<div>\n",
       "<style scoped>\n",
       "    .dataframe tbody tr th:only-of-type {\n",
       "        vertical-align: middle;\n",
       "    }\n",
       "\n",
       "    .dataframe tbody tr th {\n",
       "        vertical-align: top;\n",
       "    }\n",
       "\n",
       "    .dataframe thead th {\n",
       "        text-align: right;\n",
       "    }\n",
       "</style>\n",
       "<table border=\"1\" class=\"dataframe\">\n",
       "  <thead>\n",
       "    <tr style=\"text-align: right;\">\n",
       "      <th></th>\n",
       "      <th>userId</th>\n",
       "      <th>movieId</th>\n",
       "      <th>rating</th>\n",
       "      <th>timestamp</th>\n",
       "      <th>title</th>\n",
       "      <th>genres</th>\n",
       "    </tr>\n",
       "  </thead>\n",
       "  <tbody>\n",
       "    <tr>\n",
       "      <th>0</th>\n",
       "      <td>1</td>\n",
       "      <td>1</td>\n",
       "      <td>4.0</td>\n",
       "      <td>964982703</td>\n",
       "      <td>Toy Story (1995)</td>\n",
       "      <td>Adventure|Animation|Children|Comedy|Fantasy</td>\n",
       "    </tr>\n",
       "    <tr>\n",
       "      <th>1</th>\n",
       "      <td>5</td>\n",
       "      <td>1</td>\n",
       "      <td>4.0</td>\n",
       "      <td>847434962</td>\n",
       "      <td>Toy Story (1995)</td>\n",
       "      <td>Adventure|Animation|Children|Comedy|Fantasy</td>\n",
       "    </tr>\n",
       "    <tr>\n",
       "      <th>2</th>\n",
       "      <td>7</td>\n",
       "      <td>1</td>\n",
       "      <td>4.5</td>\n",
       "      <td>1106635946</td>\n",
       "      <td>Toy Story (1995)</td>\n",
       "      <td>Adventure|Animation|Children|Comedy|Fantasy</td>\n",
       "    </tr>\n",
       "    <tr>\n",
       "      <th>3</th>\n",
       "      <td>15</td>\n",
       "      <td>1</td>\n",
       "      <td>2.5</td>\n",
       "      <td>1510577970</td>\n",
       "      <td>Toy Story (1995)</td>\n",
       "      <td>Adventure|Animation|Children|Comedy|Fantasy</td>\n",
       "    </tr>\n",
       "    <tr>\n",
       "      <th>4</th>\n",
       "      <td>17</td>\n",
       "      <td>1</td>\n",
       "      <td>4.5</td>\n",
       "      <td>1305696483</td>\n",
       "      <td>Toy Story (1995)</td>\n",
       "      <td>Adventure|Animation|Children|Comedy|Fantasy</td>\n",
       "    </tr>\n",
       "  </tbody>\n",
       "</table>\n",
       "</div>"
      ],
      "text/plain": [
       "   userId  movieId  rating   timestamp             title  \\\n",
       "0       1        1     4.0   964982703  Toy Story (1995)   \n",
       "1       5        1     4.0   847434962  Toy Story (1995)   \n",
       "2       7        1     4.5  1106635946  Toy Story (1995)   \n",
       "3      15        1     2.5  1510577970  Toy Story (1995)   \n",
       "4      17        1     4.5  1305696483  Toy Story (1995)   \n",
       "\n",
       "                                        genres  \n",
       "0  Adventure|Animation|Children|Comedy|Fantasy  \n",
       "1  Adventure|Animation|Children|Comedy|Fantasy  \n",
       "2  Adventure|Animation|Children|Comedy|Fantasy  \n",
       "3  Adventure|Animation|Children|Comedy|Fantasy  \n",
       "4  Adventure|Animation|Children|Comedy|Fantasy  "
      ]
     },
     "execution_count": 18,
     "metadata": {},
     "output_type": "execute_result"
    }
   ],
   "source": [
    "# check DataFrame user_ratings\n",
    "user_ratings_df.head()"
   ]
  },
  {
   "cell_type": "code",
   "execution_count": 22,
   "id": "758d8e34",
   "metadata": {},
   "outputs": [
    {
     "name": "stdout",
     "output_type": "stream",
     "text": [
      "Index(['Forrest Gump (1994)', 'Shawshank Redemption, The (1994)',\n",
      "       'Pulp Fiction (1994)', 'Silence of the Lambs, The (1991)',\n",
      "       'Matrix, The (1999)'],\n",
      "      dtype='object')\n"
     ]
    }
   ],
   "source": [
    "# Get the counts of occurrences of each movie title\n",
    "movie_popularity = user_ratings_df[\"title\"].value_counts()\n",
    "\n",
    "# Inspect the most common values\n",
    "print(movie_popularity.head().index)"
   ]
  },
  {
   "cell_type": "code",
   "execution_count": 23,
   "id": "62d70534",
   "metadata": {},
   "outputs": [
    {
     "name": "stdout",
     "output_type": "stream",
     "text": [
      "                                     rating\n",
      "title                                      \n",
      "Gena the Crocodile (1969)               5.0\n",
      "True Stories (1986)                     5.0\n",
      "Cosmic Scrat-tastrophe (2015)           5.0\n",
      "Love and Pigeons (1985)                 5.0\n",
      "Red Sorghum (Hong gao liang) (1987)     5.0\n"
     ]
    }
   ],
   "source": [
    "# Find the mean of the ratings given to each title\n",
    "average_rating_df = user_ratings_df[[\"title\", \"rating\"]].groupby('title').mean()\n",
    "\n",
    "# Order the entries by highest average rating to lowest\n",
    "sorted_average_ratings = average_rating_df.sort_values(by=\"rating\", ascending=False)\n",
    "\n",
    "# Inspect the top movies\n",
    "print(sorted_average_ratings.head())"
   ]
  },
  {
   "cell_type": "markdown",
   "id": "c86b34f4",
   "metadata": {},
   "source": [
    "###### The highest-ranked movies are not movies that most people have heard of. This is because very infrequently-viewed movies are skewing the results."
   ]
  },
  {
   "cell_type": "markdown",
   "id": "69438dd0",
   "metadata": {},
   "source": [
    "###### Until now we have used the two most common non-personalized recommendation methods to find movies to suggest. As we may have noticed, \n",
    "they both have their weaknesses. Finding the most frequently watched movies will show us what has been watched, but not how people explicitly feel \n",
    "about it. However, finding the average of reviews has the opposite problem where we have customers' explicit feedback, but individual preferences \n",
    "are skewing the data."
   ]
  },
  {
   "cell_type": "markdown",
   "id": "21bdd7ea",
   "metadata": {},
   "source": [
    "### Combining popularity and reviews"
   ]
  },
  {
   "cell_type": "code",
   "execution_count": 27,
   "id": "25403f20",
   "metadata": {},
   "outputs": [
    {
     "data": {
      "text/plain": [
       "Index(['Forrest Gump (1994)', 'Shawshank Redemption, The (1994)',\n",
       "       'Pulp Fiction (1994)', 'Silence of the Lambs, The (1991)',\n",
       "       'Matrix, The (1999)', 'Star Wars: Episode IV - A New Hope (1977)',\n",
       "       'Jurassic Park (1993)', 'Braveheart (1995)',\n",
       "       'Terminator 2: Judgment Day (1991)', 'Schindler's List (1993)',\n",
       "       ...\n",
       "       'Mystic River (2003)', 'Knocked Up (2007)', 'Grumpier Old Men (1995)',\n",
       "       'Blow (2001)', 'Mulholland Drive (2001)', 'Army of Darkness (1993)',\n",
       "       'Bad Boys (1995)', 'Training Day (2001)', 'The Devil's Advocate (1997)',\n",
       "       'Splash (1984)'],\n",
       "      dtype='object', length=437)"
      ]
     },
     "execution_count": 27,
     "metadata": {},
     "output_type": "execute_result"
    }
   ],
   "source": [
    "# Create a list of only movies appearing > 50 times in the dataset\n",
    "movie_popularity = user_ratings_df[\"title\"].value_counts()\n",
    "popular_movies = movie_popularity[movie_popularity > 50].index\n",
    "popular_movies"
   ]
  },
  {
   "cell_type": "code",
   "execution_count": 28,
   "id": "b7f5a7c4",
   "metadata": {},
   "outputs": [
    {
     "name": "stdout",
     "output_type": "stream",
     "text": [
      "       userId  movieId  rating   timestamp                 title  \\\n",
      "0           1        1     4.0   964982703      Toy Story (1995)   \n",
      "1           5        1     4.0   847434962      Toy Story (1995)   \n",
      "2           7        1     4.5  1106635946      Toy Story (1995)   \n",
      "3          15        1     2.5  1510577970      Toy Story (1995)   \n",
      "4          17        1     4.5  1305696483      Toy Story (1995)   \n",
      "...       ...      ...     ...         ...                   ...   \n",
      "79246     603     1997     4.0   953925513  Exorcist, The (1973)   \n",
      "79247     606     1997     3.0  1178911117  Exorcist, The (1973)   \n",
      "79248     607     1997     5.0   963079420  Exorcist, The (1973)   \n",
      "79249     608     1997     4.5  1117502891  Exorcist, The (1973)   \n",
      "79250     610     1997     4.0  1479543021  Exorcist, The (1973)   \n",
      "\n",
      "                                            genres  \n",
      "0      Adventure|Animation|Children|Comedy|Fantasy  \n",
      "1      Adventure|Animation|Children|Comedy|Fantasy  \n",
      "2      Adventure|Animation|Children|Comedy|Fantasy  \n",
      "3      Adventure|Animation|Children|Comedy|Fantasy  \n",
      "4      Adventure|Animation|Children|Comedy|Fantasy  \n",
      "...                                            ...  \n",
      "79246                               Horror|Mystery  \n",
      "79247                               Horror|Mystery  \n",
      "79248                               Horror|Mystery  \n",
      "79249                               Horror|Mystery  \n",
      "79250                               Horror|Mystery  \n",
      "\n",
      "[40712 rows x 6 columns]\n"
     ]
    }
   ],
   "source": [
    "# Use the popular_movies list to filter the original DataFrame\n",
    "popular_movies_rankings = user_ratings_df[user_ratings_df[\"title\"].isin(popular_movies)]\n",
    "\n",
    "# Inspect the movies watched over 50 times\n",
    "print(popular_movies_rankings)"
   ]
  },
  {
   "cell_type": "code",
   "execution_count": 29,
   "id": "ffceedbc",
   "metadata": {},
   "outputs": [
    {
     "name": "stdout",
     "output_type": "stream",
     "text": [
      "                                                      rating\n",
      "title                                                       \n",
      "Shawshank Redemption, The (1994)                    4.429022\n",
      "Godfather, The (1972)                               4.289062\n",
      "Fight Club (1999)                                   4.272936\n",
      "Cool Hand Luke (1967)                               4.271930\n",
      "Dr. Strangelove or: How I Learned to Stop Worry...  4.268041\n"
     ]
    }
   ],
   "source": [
    "# Find the average rating given to these frequently watched films\n",
    "popular_movies_average_rankings = popular_movies_rankings[[\"title\", \"rating\"]].groupby('title').mean()\n",
    "print(popular_movies_average_rankings.sort_values(by=\"rating\", ascending=False).head())"
   ]
  },
  {
   "cell_type": "markdown",
   "id": "aec2ef67",
   "metadata": {},
   "source": [
    "###### We are now able to make intelligent non-personalized recommendations that combine both the ratings of an item and how frequently it has been interacted with which is powwrful."
   ]
  },
  {
   "cell_type": "code",
   "execution_count": null,
   "id": "5263e363",
   "metadata": {},
   "outputs": [],
   "source": []
  }
 ],
 "metadata": {
  "kernelspec": {
   "display_name": "Python 3",
   "language": "python",
   "name": "python3"
  },
  "language_info": {
   "codemirror_mode": {
    "name": "ipython",
    "version": 3
   },
   "file_extension": ".py",
   "mimetype": "text/x-python",
   "name": "python",
   "nbconvert_exporter": "python",
   "pygments_lexer": "ipython3",
   "version": "3.8.3"
  },
  "toc-showmarkdowntxt": true
 },
 "nbformat": 4,
 "nbformat_minor": 5
}
